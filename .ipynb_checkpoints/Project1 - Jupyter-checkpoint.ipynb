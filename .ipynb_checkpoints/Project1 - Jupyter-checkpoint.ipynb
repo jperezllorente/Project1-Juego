{
 "cells": [
  {
   "cell_type": "code",
   "execution_count": 69,
   "metadata": {},
   "outputs": [],
   "source": [
    "import random as rn\n",
    "\n",
    "min_bound = 1\n",
    "\n",
    "max_bound = 20\n",
    "\n",
    "num = rn.randint(min_bound,max_bound)"
   ]
  },
  {
   "cell_type": "code",
   "execution_count": 14,
   "metadata": {},
   "outputs": [
    {
     "ename": "SyntaxError",
     "evalue": "invalid syntax (<ipython-input-14-db96cae75145>, line 3)",
     "output_type": "error",
     "traceback": [
      "\u001b[1;36m  File \u001b[1;32m\"<ipython-input-14-db96cae75145>\"\u001b[1;36m, line \u001b[1;32m3\u001b[0m\n\u001b[1;33m    if level = '1':\u001b[0m\n\u001b[1;37m             ^\u001b[0m\n\u001b[1;31mSyntaxError\u001b[0m\u001b[1;31m:\u001b[0m invalid syntax\n"
     ]
    }
   ],
   "source": [
    "def difficulty():\n",
    "    level = str(input('Choose the difficulty between 1 and 3:'))\n",
    "    if level = '1':\n",
    "        print('1')\n",
    "        min_bound = 1\n",
    "        max_bound = 20 \n",
    "    elif level == '2':\n",
    "        print('2')\n",
    "        min_bound = 1\n",
    "        max_bound = 30\n",
    "    elif level == '3':\n",
    "        min_bound = 1\n",
    "        max_bound = 30\n",
    "        "
   ]
  },
  {
   "cell_type": "code",
   "execution_count": 23,
   "metadata": {},
   "outputs": [],
   "source": [
    "\n",
    "def game():\n",
    "    \n",
    "    import random as rn\n",
    "    \n",
    "    level = int(input('Choose the difficulty level you want to face:'))\n",
    "    \n",
    "    if level == 1:\n",
    "        print('What a chicken!')\n",
    "        num = rn.randint(1,20)\n",
    "    elif level == 2:\n",
    "        print('Not a complete waste. I guess...')\n",
    "        num = rn.randint(1,30)\n",
    "    elif level == 3:\n",
    "        print('Someone proper looking a for a challenge. I like it!')\n",
    "        num = rn.randint(1,40)\n",
    "\n",
    "    tries = 5\n",
    "    chances = 0\n",
    "\n",
    "    while chances < tries:\n",
    "        guess = int(input('Try guessing the number:'))\n",
    "        chances += 1\n",
    "        if guess < num:\n",
    "            print('Try higher')\n",
    "        elif guess > num:\n",
    "            print('Try lower')\n",
    "        else:\n",
    "            print('Good job! The number was',num)\n",
    "            break\n",
    "        \n",
    "    if guess == num:\n",
    "        print('Congratulations!! You guessed the number on your try number ', chances)\n",
    "    if guess != num:\n",
    "        print('Game over! The number was' ,num)\n",
    "\n"
   ]
  },
  {
   "cell_type": "code",
   "execution_count": 25,
   "metadata": {},
   "outputs": [
    {
     "name": "stdout",
     "output_type": "stream",
     "text": [
      "Choose the difficulty level you want to face:3\n",
      "Someone proper looking a for a challenge\n",
      "Try guessing the number:20\n",
      "Try higher\n",
      "Try guessing the number:30\n",
      "Try lower\n",
      "Try guessing the number:25\n",
      "Try higher\n",
      "Try guessing the number:28\n",
      "Try lower\n",
      "Try guessing the number:26\n",
      "Try higher\n",
      "Game over! The number was 27\n"
     ]
    }
   ],
   "source": [
    "game()"
   ]
  },
  {
   "cell_type": "code",
   "execution_count": 45,
   "metadata": {},
   "outputs": [
    {
     "name": "stdout",
     "output_type": "stream",
     "text": [
      "Try guessing the number:30\n",
      "Enter a valid number in range\n",
      "Try lower\n"
     ]
    },
    {
     "ename": "KeyboardInterrupt",
     "evalue": "Interrupted by user",
     "output_type": "error",
     "traceback": [
      "\u001b[1;31m---------------------------------------------------------------------------\u001b[0m",
      "\u001b[1;31mKeyboardInterrupt\u001b[0m                         Traceback (most recent call last)",
      "\u001b[1;32m<ipython-input-45-70bf111eba98>\u001b[0m in \u001b[0;36m<module>\u001b[1;34m\u001b[0m\n\u001b[0;32m     11\u001b[0m \u001b[1;33m\u001b[0m\u001b[0m\n\u001b[0;32m     12\u001b[0m \u001b[1;32mwhile\u001b[0m \u001b[0mchances\u001b[0m \u001b[1;33m<\u001b[0m \u001b[0mtries\u001b[0m\u001b[1;33m:\u001b[0m\u001b[1;33m\u001b[0m\u001b[1;33m\u001b[0m\u001b[0m\n\u001b[1;32m---> 13\u001b[1;33m     \u001b[0mguess\u001b[0m \u001b[1;33m=\u001b[0m \u001b[0mint\u001b[0m\u001b[1;33m(\u001b[0m\u001b[0minput\u001b[0m\u001b[1;33m(\u001b[0m\u001b[1;34m'Try guessing the number:'\u001b[0m\u001b[1;33m)\u001b[0m\u001b[1;33m)\u001b[0m\u001b[1;33m\u001b[0m\u001b[1;33m\u001b[0m\u001b[0m\n\u001b[0m\u001b[0;32m     14\u001b[0m     \u001b[1;32mif\u001b[0m \u001b[0mguess\u001b[0m \u001b[1;33m>\u001b[0m \u001b[1;36m20\u001b[0m\u001b[1;33m:\u001b[0m\u001b[1;33m\u001b[0m\u001b[1;33m\u001b[0m\u001b[0m\n\u001b[0;32m     15\u001b[0m         \u001b[0mprint\u001b[0m\u001b[1;33m(\u001b[0m\u001b[1;34m'Enter a valid number in range'\u001b[0m\u001b[1;33m)\u001b[0m\u001b[1;33m\u001b[0m\u001b[1;33m\u001b[0m\u001b[0m\n",
      "\u001b[1;32m~\\anaconda3\\lib\\site-packages\\ipykernel\\kernelbase.py\u001b[0m in \u001b[0;36mraw_input\u001b[1;34m(self, prompt)\u001b[0m\n\u001b[0;32m    858\u001b[0m                 \u001b[1;34m\"raw_input was called, but this frontend does not support input requests.\"\u001b[0m\u001b[1;33m\u001b[0m\u001b[1;33m\u001b[0m\u001b[0m\n\u001b[0;32m    859\u001b[0m             )\n\u001b[1;32m--> 860\u001b[1;33m         return self._input_request(str(prompt),\n\u001b[0m\u001b[0;32m    861\u001b[0m             \u001b[0mself\u001b[0m\u001b[1;33m.\u001b[0m\u001b[0m_parent_ident\u001b[0m\u001b[1;33m,\u001b[0m\u001b[1;33m\u001b[0m\u001b[1;33m\u001b[0m\u001b[0m\n\u001b[0;32m    862\u001b[0m             \u001b[0mself\u001b[0m\u001b[1;33m.\u001b[0m\u001b[0m_parent_header\u001b[0m\u001b[1;33m,\u001b[0m\u001b[1;33m\u001b[0m\u001b[1;33m\u001b[0m\u001b[0m\n",
      "\u001b[1;32m~\\anaconda3\\lib\\site-packages\\ipykernel\\kernelbase.py\u001b[0m in \u001b[0;36m_input_request\u001b[1;34m(self, prompt, ident, parent, password)\u001b[0m\n\u001b[0;32m    902\u001b[0m             \u001b[1;32mexcept\u001b[0m \u001b[0mKeyboardInterrupt\u001b[0m\u001b[1;33m:\u001b[0m\u001b[1;33m\u001b[0m\u001b[1;33m\u001b[0m\u001b[0m\n\u001b[0;32m    903\u001b[0m                 \u001b[1;31m# re-raise KeyboardInterrupt, to truncate traceback\u001b[0m\u001b[1;33m\u001b[0m\u001b[1;33m\u001b[0m\u001b[1;33m\u001b[0m\u001b[0m\n\u001b[1;32m--> 904\u001b[1;33m                 \u001b[1;32mraise\u001b[0m \u001b[0mKeyboardInterrupt\u001b[0m\u001b[1;33m(\u001b[0m\u001b[1;34m\"Interrupted by user\"\u001b[0m\u001b[1;33m)\u001b[0m \u001b[1;32mfrom\u001b[0m \u001b[1;32mNone\u001b[0m\u001b[1;33m\u001b[0m\u001b[1;33m\u001b[0m\u001b[0m\n\u001b[0m\u001b[0;32m    905\u001b[0m             \u001b[1;32mexcept\u001b[0m \u001b[0mException\u001b[0m \u001b[1;32mas\u001b[0m \u001b[0me\u001b[0m\u001b[1;33m:\u001b[0m\u001b[1;33m\u001b[0m\u001b[1;33m\u001b[0m\u001b[0m\n\u001b[0;32m    906\u001b[0m                 \u001b[0mself\u001b[0m\u001b[1;33m.\u001b[0m\u001b[0mlog\u001b[0m\u001b[1;33m.\u001b[0m\u001b[0mwarning\u001b[0m\u001b[1;33m(\u001b[0m\u001b[1;34m\"Invalid Message:\"\u001b[0m\u001b[1;33m,\u001b[0m \u001b[0mexc_info\u001b[0m\u001b[1;33m=\u001b[0m\u001b[1;32mTrue\u001b[0m\u001b[1;33m)\u001b[0m\u001b[1;33m\u001b[0m\u001b[1;33m\u001b[0m\u001b[0m\n",
      "\u001b[1;31mKeyboardInterrupt\u001b[0m: Interrupted by user"
     ]
    }
   ],
   "source": [
    "import random as rn\n",
    "\n",
    "min_bound = 1\n",
    "\n",
    "max_bound = 20\n",
    "\n",
    "num = rn.randint(min_bound,max_bound)\n",
    "\n",
    "tries = 5\n",
    "chances = 0\n",
    "\n",
    "while chances < tries:\n",
    "    guess = int(input('Try guessing the number:'))\n",
    "    if guess > 20:\n",
    "        print('Enter a valid number in range')\n",
    "    chances += 1\n",
    "    if guess < num:\n",
    "        print('Try higher')\n",
    "    elif guess > num:\n",
    "        print('Try lower')\n",
    "    else:\n",
    "        print('Good job')\n",
    "        break\n",
    "        \n",
    "if guess == num:\n",
    "    print('Congratulations!! You guessed the number on your try number ', chances)\n",
    "if guess != num:\n",
    "    print('Game over! The number was' ,num)\n",
    "\n",
    "\n",
    "    "
   ]
  },
  {
   "cell_type": "code",
   "execution_count": null,
   "metadata": {},
   "outputs": [],
   "source": [
    "import random as rn\n",
    "\n",
    "min_bound = 1\n",
    "\n",
    "max_bound = 20\n",
    "\n",
    "num = rn.randint(min_bound,max_bound)\n",
    "\n",
    "tries = 5\n",
    "chances = 0\n",
    "\n",
    "while chances < tries:\n",
    "    guess = int(input('Try guessing the number:'))\n",
    "    chances += 1\n",
    "    \n",
    "    if guess < num:\n",
    "        print('Try higher')\n",
    "    elif guess > num:\n",
    "        print('Try lower')\n",
    "    else:\n",
    "        print('Good job')\n",
    "        break\n",
    "        \n",
    "if guess == num:\n",
    "    print('Congratulations!! You guessed the number on your try number ', chances)\n",
    "if guess != num:\n",
    "    print('Game over! The number was' ,num)\n",
    "\n"
   ]
  },
  {
   "cell_type": "code",
   "execution_count": null,
   "metadata": {},
   "outputs": [],
   "source": [
    "import random as rn\n",
    "\n",
    "min_bound = 1\n",
    "\n",
    "max_bound = 20\n",
    "\n",
    "num = rn.randint(min_bound,max_bound)\n",
    "\n",
    "tries = 5\n",
    "chances = 0\n",
    "\n",
    "while chances"
   ]
  },
  {
   "cell_type": "code",
   "execution_count": null,
   "metadata": {},
   "outputs": [],
   "source": []
  },
  {
   "cell_type": "code",
   "execution_count": null,
   "metadata": {},
   "outputs": [],
   "source": []
  }
 ],
 "metadata": {
  "kernelspec": {
   "display_name": "Python 3",
   "language": "python",
   "name": "python3"
  },
  "language_info": {
   "codemirror_mode": {
    "name": "ipython",
    "version": 3
   },
   "file_extension": ".py",
   "mimetype": "text/x-python",
   "name": "python",
   "nbconvert_exporter": "python",
   "pygments_lexer": "ipython3",
   "version": "3.8.3"
  }
 },
 "nbformat": 4,
 "nbformat_minor": 4
}

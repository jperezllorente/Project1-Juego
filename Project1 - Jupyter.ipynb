{
 "cells": [
  {
   "cell_type": "code",
   "execution_count": 48,
   "metadata": {},
   "outputs": [],
   "source": [
    "\n",
    "def player():\n",
    "    \n",
    "    import random as rn\n",
    "    \n",
    "    level = int(input('Choose the difficulty level you want to face:'))\n",
    "    \n",
    "    if level == 1:\n",
    "        print('What a chicken!')\n",
    "        num = rn.randint(1,20)\n",
    "    elif level == 2:\n",
    "        print('Not a complete waste. I guess...')\n",
    "        num = rn.randint(1,30)\n",
    "    elif level == 3:\n",
    "        print('Someone proper looking a for a challenge. I like it!')\n",
    "        num = rn.randint(1,40)\n",
    "\n",
    "    tries = 5\n",
    "    chance = 0\n",
    "\n",
    "    while chance < tries:\n",
    "        guess = int(input('Try guessing the number:'))\n",
    "        chance += 1\n",
    "        if guess < num:\n",
    "            print('Try higher')\n",
    "        elif guess > num:\n",
    "            print('Try lower')\n",
    "        else:\n",
    "            print('Good job! The number was',num)\n",
    "            break\n",
    "        \n",
    "    if guess == num:\n",
    "        print('Congratulations!! You guessed the number on your try number ', chance)\n",
    "    if guess != num:\n",
    "        print('Game over! The number was' ,num)\n"
   ]
  },
  {
   "cell_type": "code",
   "execution_count": 49,
   "metadata": {},
   "outputs": [
    {
     "name": "stdout",
     "output_type": "stream",
     "text": [
      "Choose the difficulty level you want to face:2\n",
      "Not a complete waste. I guess...\n",
      "Try guessing the number:25\n",
      "Try lower\n",
      "Try guessing the number:14\n",
      "Try higher\n",
      "Try guessing the number:18\n",
      "Try higher\n",
      "Try guessing the number:23\n",
      "Try lower\n",
      "Try guessing the number:22\n",
      "Try lower\n",
      "Game over! The number was 19\n"
     ]
    }
   ],
   "source": [
    "player()"
   ]
  },
  {
   "cell_type": "code",
   "execution_count": 51,
   "metadata": {},
   "outputs": [],
   "source": [
    "def machine():\n",
    "    \n",
    "    import random as rn\n",
    "    \n",
    "    level = 'Choose difficutly level:',rn.randint(1,3)\n",
    "    print(level)\n",
    "    \n",
    "    if level == 1:\n",
    "        print('What a chicken!')\n",
    "        num = rn.randint(1,20)\n",
    "    elif level == 2:\n",
    "        print('Not a complete waste. I guess...')\n",
    "        num = rn.randint(1,30)\n",
    "    elif level == 3:\n",
    "        print('Someone proper looking a for a challenge. I like it!')\n",
    "        num = rn.randint(1,40)\n",
    "    \n",
    "    chances = 0\n",
    "    tries = 5   \n",
    "    num = rn.randint(1,20)\n",
    "    guess = rn.randint(1,20)\n",
    "    \n",
    "    while chances < tries:\n",
    "        \n",
    "        chances += 1\n",
    "        if guess < num:\n",
    "            print(guess,'Try higher')\n",
    "            guess = rn.randint(guess,num)\n",
    "        elif guess > num:\n",
    "            print(guess,'Try lower')\n",
    "            guess = rn.randint (num,guess)\n",
    "        else:\n",
    "            print('Good job! The number was',num)\n",
    "            break\n",
    "    if guess == num:\n",
    "        print('Congratulations!! You guessed the number on your try number ', chances)\n",
    "    if guess != num:\n",
    "        print('Game over! The number was' ,num)\n"
   ]
  },
  {
   "cell_type": "code",
   "execution_count": 57,
   "metadata": {},
   "outputs": [
    {
     "name": "stdout",
     "output_type": "stream",
     "text": [
      "('Choose difficutly level:', 1)\n",
      "18 Try lower\n",
      "4 Try lower\n",
      "3 Try lower\n",
      "Good job! The number was 2\n",
      "Congratulations!! You guessed the number on your try number  4\n"
     ]
    }
   ],
   "source": [
    "machine()"
   ]
  },
  {
   "cell_type": "code",
   "execution_count": 66,
   "metadata": {},
   "outputs": [],
   "source": [
    "def game():\n",
    "    \n",
    "    select = int(input('Choose game mode:'))\n",
    "    if select not in range (1,3):\n",
    "        print('Choose a valid game mode')\n",
    "    elif select == 1:\n",
    "        print('You have chosen to play yourself')\n",
    "        player()\n",
    "    elif select == 2:\n",
    "        print('You have chosen to watch the machine play')\n",
    "        machine()\n"
   ]
  },
  {
   "cell_type": "code",
   "execution_count": 67,
   "metadata": {},
   "outputs": [
    {
     "name": "stdout",
     "output_type": "stream",
     "text": [
      "Choose game mode:2\n",
      "You have chosen to watch the machine play\n",
      "('Choose difficutly level:', 1)\n",
      "14 Try higher\n",
      "Good job! The number was 15\n",
      "Congratulations!! You guessed the number on your try number  2\n"
     ]
    }
   ],
   "source": [
    "game()\n"
   ]
  },
  {
   "cell_type": "code",
   "execution_count": null,
   "metadata": {},
   "outputs": [],
   "source": []
  }
 ],
 "metadata": {
  "kernelspec": {
   "display_name": "Python 3",
   "language": "python",
   "name": "python3"
  },
  "language_info": {
   "codemirror_mode": {
    "name": "ipython",
    "version": 3
   },
   "file_extension": ".py",
   "mimetype": "text/x-python",
   "name": "python",
   "nbconvert_exporter": "python",
   "pygments_lexer": "ipython3",
   "version": "3.8.3"
  }
 },
 "nbformat": 4,
 "nbformat_minor": 4
}

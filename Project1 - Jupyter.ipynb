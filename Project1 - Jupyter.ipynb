{
 "cells": [
  {
   "cell_type": "code",
   "execution_count": 68,
   "metadata": {},
   "outputs": [],
   "source": [
    "\n",
    "def player():\n",
    "    \n",
    "    import random as rn\n",
    "    \n",
    "    print(\"\"\"The difficulty level determines the range between which you have to guess:\n",
    "               - Level 1 -> (1,20)\n",
    "               - Level 2 -> (1,30)\n",
    "               - Level 3 -> (1,40)\"\"\")\n",
    "    \n",
    "    level = int(input('Choose the difficulty level you want to face:'))\n",
    "    \n",
    "    \n",
    "    if level == 1:\n",
    "        print('What a chicken!')\n",
    "        num = rn.randint(1,20)\n",
    "    elif level == 2:\n",
    "        print('Not a complete waste. I guess...')\n",
    "        num = rn.randint(1,30)\n",
    "    elif level == 3:\n",
    "        print('Someone proper looking a for a challenge. I like it!')\n",
    "        num = rn.randint(1,40)\n",
    "\n",
    "    tries = 5\n",
    "    chance = 0\n",
    "\n",
    "    while chance < tries:\n",
    "        guess = int(input('Try guessing the number:'))\n",
    "        chance += 1\n",
    "        if guess < num:\n",
    "            print('Try higher')\n",
    "        elif guess > num:\n",
    "            print('Try lower')\n",
    "        else:\n",
    "            print('Good job! The number was',num)\n",
    "            break\n",
    "        \n",
    "    if guess == num:\n",
    "        print('Congratulations!! You guessed the number on your try number ', chance)\n",
    "    if guess != num:\n",
    "        print('Game over! The number was' ,num)\n"
   ]
  },
  {
   "cell_type": "code",
   "execution_count": 128,
   "metadata": {},
   "outputs": [
    {
     "name": "stdout",
     "output_type": "stream",
     "text": [
      "The difficulty level determines the range between which you have to guess:\n",
      "               - Level 1 -> (1,20)\n",
      "               - Level 2 -> (1,30)\n",
      "               - Level 3 -> (1,40)\n",
      "Choose the difficulty level you want to face:1\n",
      "What a chicken!\n",
      "Try guessing the number:15\n",
      "Try lower\n",
      "Try guessing the number:10\n",
      "Try lower\n",
      "Try guessing the number:6\n",
      "Try higher\n",
      "Try guessing the number:8\n",
      "Try lower\n",
      "Try guessing the number:7\n",
      "Good job! The number was 7\n",
      "Congratulations!! You guessed the number on your try number  5\n"
     ]
    }
   ],
   "source": [
    "player()"
   ]
  },
  {
   "cell_type": "code",
   "execution_count": 115,
   "metadata": {},
   "outputs": [],
   "source": [
    "def machine():\n",
    "    \n",
    "    import random as rn\n",
    "    \n",
    "    level = int(input('Choose the difficulty level you want to face:'))\n",
    "    \n",
    "    if level == 1:\n",
    "        print('What a chicken!')\n",
    "        min_bound=1\n",
    "        max_bound = 20\n",
    "    elif level == 2:\n",
    "        print('Not a complete waste. I guess...')\n",
    "        min_bound=1\n",
    "        max_bound = 30\n",
    "    elif level == 3:\n",
    "        print('Someone proper looking a for a challenge. I like it!')\n",
    "        min_bound=1\n",
    "        max_bound = 4\n",
    "    \n",
    "    chances = 0\n",
    "    tries = 5   \n",
    "    num = rn.randint(min_bound,max_bound)\n",
    "    guess = rn.randint(min_bound,max_bound)\n",
    "    \n",
    "    while chances < tries:\n",
    "        \n",
    "        chances += 1\n",
    "        if guess == num:\n",
    "            print('Good job! The number was',num)\n",
    "            break\n",
    "        elif guess < num:\n",
    "            print(guess,'Try higher')\n",
    "            guess = rn.randint(guess+1,max_bound)\n",
    "        elif guess > num:\n",
    "            print(guess,'Try lower')\n",
    "            guess = rn.randint (min_bound,guess-1)\n",
    "            \n",
    "    if guess == num:\n",
    "        print('Congratulations!! You guessed the number on your try number ', chances)\n",
    "    if guess != num:\n",
    "        print('Game over! The number was' ,num)\n"
   ]
  },
  {
   "cell_type": "code",
   "execution_count": 129,
   "metadata": {},
   "outputs": [
    {
     "name": "stdout",
     "output_type": "stream",
     "text": [
      "Choose the difficulty level you want to face:1\n",
      "What a chicken!\n",
      "2 Try higher\n",
      "3 Try higher\n",
      "7 Try higher\n",
      "Good job! The number was 14\n",
      "Congratulations!! You guessed the number on your try number  4\n"
     ]
    }
   ],
   "source": [
    "machine()"
   ]
  },
  {
   "cell_type": "code",
   "execution_count": 66,
   "metadata": {},
   "outputs": [],
   "source": [
    "def game():\n",
    "    \n",
    "    select = int(input('Choose game mode:'))\n",
    "    if select not in range (1,3):\n",
    "        print('Choose a valid game mode')\n",
    "    elif select == 1:\n",
    "        print('You have chosen to play yourself')\n",
    "        player()\n",
    "    elif select == 2:\n",
    "        print('You have chosen to watch the machine play')\n",
    "        machine()\n"
   ]
  },
  {
   "cell_type": "code",
   "execution_count": 119,
   "metadata": {},
   "outputs": [
    {
     "name": "stdout",
     "output_type": "stream",
     "text": [
      "Choose game mode:2\n",
      "You have chosen to watch the machine play\n",
      "Choose the difficulty level you want to face:2\n",
      "Not a complete waste. I guess...\n",
      "27 Try lower\n",
      "18 Try higher\n",
      "27 Try lower\n",
      "24 Try lower\n",
      "11 Try higher\n",
      "Game over! The number was 19\n"
     ]
    }
   ],
   "source": [
    "game()\n"
   ]
  },
  {
   "cell_type": "code",
   "execution_count": null,
   "metadata": {},
   "outputs": [],
   "source": []
  }
 ],
 "metadata": {
  "kernelspec": {
   "display_name": "Python 3",
   "language": "python",
   "name": "python3"
  },
  "language_info": {
   "codemirror_mode": {
    "name": "ipython",
    "version": 3
   },
   "file_extension": ".py",
   "mimetype": "text/x-python",
   "name": "python",
   "nbconvert_exporter": "python",
   "pygments_lexer": "ipython3",
   "version": "3.8.3"
  }
 },
 "nbformat": 4,
 "nbformat_minor": 4
}
